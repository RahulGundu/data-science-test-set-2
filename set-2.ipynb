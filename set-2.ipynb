{
 "cells": [
  {
   "cell_type": "markdown",
   "metadata": {},
   "source": [
    "# Guidelines\n",
    "\n",
    "  - Two Questions are given in this exam ,you have to implement both the questions.\n",
    "  - No internal choice is provided.\n",
    "  - You can Implement these questions in Python.\n",
    "  - Time Duration: 1 hour.\n",
    "\n",
    "### Task 1 : Implementing Linear Regression\n",
    "\n",
    "You have to Import the Diabetes dataset and implement the following tasks:\n",
    " - Load the diabetes dataset\n",
    " - Split the dataset into feature and label datasets.\n",
    " - Split the dataset into training/testing sets.\n",
    " - Create linear regression object.\n",
    " - Train the model using the training set.\n",
    " - Make the predictions using the testing set.\n",
    " - Calculate the Evaluation Matrices (Confusion matrix, Accuracy, Recall, Precision, F1-score)\n",
    " - Plot the outputs.\n",
    " \n",
    "\n",
    "### Task 2 : Implementing Logistic Regression\n",
    "- Load the Boston house-prices dataset\n",
    "- Split the dataset into feature and label datasets.\n",
    "- Split the dataset into training/testing sets.\n",
    "- Create a logistic regression object.\n",
    "- Train the model using the training set.\n",
    "- Make the predictions using the testing set.\n",
    "- Calculate the Evaluation Matrices (Confusion matrix, Accuracy, Recall, Precision, F1-score).\n",
    "- Plot the outputs.\n",
    "\n"
   ]
  },
  {
   "cell_type": "code",
   "execution_count": null,
   "metadata": {},
   "outputs": [],
   "source": []
  }
 ],
 "metadata": {
  "kernelspec": {
   "display_name": "Python 3",
   "language": "python",
   "name": "python3"
  },
  "language_info": {
   "codemirror_mode": {
    "name": "ipython",
    "version": 3
   },
   "file_extension": ".py",
   "mimetype": "text/x-python",
   "name": "python",
   "nbconvert_exporter": "python",
   "pygments_lexer": "ipython3",
   "version": "3.6.6"
  }
 },
 "nbformat": 4,
 "nbformat_minor": 2
}
